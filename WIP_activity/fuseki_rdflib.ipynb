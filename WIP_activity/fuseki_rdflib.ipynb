{
 "cells": [
  {
   "cell_type": "code",
   "execution_count": 1,
   "metadata": {
    "metadata": {}
   },
   "outputs": [],
   "source": [
    "from rdflib.namespace import RDF\n",
    "from rdflib.graph import DATASET_DEFAULT_GRAPH_ID\n",
    "from rdflib import Graph, Namespace, Literal, URIRef, ConjunctiveGraph\n",
    "from rdflib.plugins.stores.sparqlstore import SPARQLUpdateStore\n",
    "from rdflib.plugins.sparql import prepareQuery\n",
    "import requests"
   ]
  },
  {
   "cell_type": "code",
   "execution_count": null,
   "metadata": {},
   "outputs": [],
   "source": []
  },
  {
   "cell_type": "code",
   "execution_count": 64,
   "metadata": {
    "metadata": {}
   },
   "outputs": [],
   "source": [
    "ns = Namespace(\"http://example.org/\")\n",
    "dataset = \"test\"\n",
    "dataset_type = \"tdb2\"  # tdb, tdb1, or tdb2\n",
    "base_url = \"http://toolsfrek1.oeko.local/fuseki\"\n",
    "endpoint = f\"{base_url}/{dataset}\"\n",
    "admin_list = f\"{base_url}/$/datasets\"\n",
    "admin_details = f\"{admin_list}/{dataset}\"\n",
    "graph_id = ns.mygraph  # must be IRI"
   ]
  },
  {
   "cell_type": "code",
   "execution_count": 94,
   "metadata": {
    "metadata": {}
   },
   "outputs": [],
   "source": [
    "# delete old dataset\n",
    "requests.delete(admin_details)\n",
    "# create dataset (https://jena.apache.org/documentation/fuseki2/fuseki-server-protocol.html#datasets-and-services)\n",
    "requests.post(\n",
    "    admin_list, data={\"dbType\": dataset_type, \"dbName\": dataset}\n",
    ").raise_for_status()"
   ]
  },
  {
   "cell_type": "code",
   "execution_count": 95,
   "metadata": {
    "metadata": {}
   },
   "outputs": [],
   "source": [
    "store = SPARQLUpdateStore(endpoint)\n",
    "store.open((f\"{endpoint}/query\", f\"{endpoint}/update\"))\n",
    "cgraph = ConjunctiveGraph(store=store)\n",
    "dgraph = Graph(store=store, identifier=DATASET_DEFAULT_GRAPH_ID)\n",
    "graph = Graph(store=store, identifier=graph_id)"
   ]
  },
  {
   "cell_type": "code",
   "execution_count": 96,
   "metadata": {
    "metadata": {}
   },
   "outputs": [],
   "source": [
    "query1 = \"\"\"\n",
    "SELECT ?s ?p ?o\n",
    "WHERE {\n",
    "  ?s ?p ?o\n",
    "}\n",
    "\"\"\"\n",
    "\n",
    "query2 = (\n",
    "    \"\"\"\n",
    "SELECT ?s ?p ?o\n",
    "FROM <%s>\n",
    "WHERE {\n",
    "  ?s ?p ?o\n",
    "}\n",
    "\"\"\"\n",
    "    % graph_id\n",
    ")"
   ]
  },
  {
   "cell_type": "code",
   "execution_count": 97,
   "metadata": {
    "metadata": {}
   },
   "outputs": [
    {
     "data": {
      "text/plain": [
       "<Graph identifier=urn:x-rdflib:default (<class 'rdflib.graph.Graph'>)>"
      ]
     },
     "execution_count": 97,
     "metadata": {},
     "output_type": "execute_result"
    }
   ],
   "source": [
    "# add node\n",
    "node1 = (ns.me, ns.verb, Literal(\"mytype\"))\n",
    "node2 = (ns.me, ns.verb, Literal(\"mytype2\"))\n",
    "node3 = (ns.me, ns.verb, URIRef(\"http://example.org/a\"))\n",
    "\n",
    "graph.add(node2)\n",
    "graph.add(node1)\n",
    "dgraph.add(node1)\n",
    "dgraph.add(node3)"
   ]
  },
  {
   "cell_type": "code",
   "execution_count": 103,
   "metadata": {
    "metadata": {}
   },
   "outputs": [
    {
     "name": "stdout",
     "output_type": "stream",
     "text": [
      "2\n",
      "[(rdflib.term.URIRef('http://example.org/me'), rdflib.term.URIRef('http://example.org/verb'), rdflib.term.Literal('mytype')), (rdflib.term.URIRef('http://example.org/me'), rdflib.term.URIRef('http://example.org/verb'), rdflib.term.URIRef('http://example.org/a'))]\n"
     ]
    }
   ],
   "source": [
    "res = list(cgraph.triples((None, None, None)))\n",
    "print(len(res))\n",
    "print(res)"
   ]
  },
  {
   "cell_type": "code",
   "execution_count": 104,
   "metadata": {
    "metadata": {}
   },
   "outputs": [
    {
     "name": "stdout",
     "output_type": "stream",
     "text": [
      "2\n",
      "[(rdflib.term.URIRef('http://example.org/me'), rdflib.term.URIRef('http://example.org/verb'), rdflib.term.Literal('mytype')), (rdflib.term.URIRef('http://example.org/me'), rdflib.term.URIRef('http://example.org/verb'), rdflib.term.URIRef('http://example.org/a'))]\n"
     ]
    }
   ],
   "source": [
    "res = list(dgraph.triples((None, None, None)))\n",
    "print(len(res))\n",
    "print(res)"
   ]
  },
  {
   "cell_type": "code",
   "execution_count": 105,
   "metadata": {
    "metadata": {}
   },
   "outputs": [
    {
     "name": "stdout",
     "output_type": "stream",
     "text": [
      "2\n",
      "[(rdflib.term.URIRef('http://example.org/me'), rdflib.term.URIRef('http://example.org/verb'), rdflib.term.Literal('mytype2')), (rdflib.term.URIRef('http://example.org/me'), rdflib.term.URIRef('http://example.org/verb'), rdflib.term.Literal('mytype'))]\n"
     ]
    }
   ],
   "source": [
    "res = list(graph.triples((None, None, None)))\n",
    "print(len(res))\n",
    "print(res)"
   ]
  },
  {
   "cell_type": "code",
   "execution_count": 93,
   "metadata": {
    "metadata": {}
   },
   "outputs": [
    {
     "name": "stdout",
     "output_type": "stream",
     "text": [
      "2\n",
      "[(rdflib.term.URIRef('http://example.org/me'), rdflib.term.URIRef('http://example.org/verb'), rdflib.term.URIRef('http://example.org/a')), (rdflib.term.URIRef('http://example.org/me'), rdflib.term.URIRef('http://example.org/verb'), rdflib.term.Literal('mytype'))]\n"
     ]
    }
   ],
   "source": [
    "res = list(graph.query(query1))\n",
    "print(len(res))\n",
    "print(res)"
   ]
  },
  {
   "cell_type": "code",
   "execution_count": null,
   "metadata": {},
   "outputs": [],
   "source": []
  }
 ],
 "metadata": {
  "kernelspec": {
   "display_name": "Python 3",
   "language": "python",
   "name": "python3"
  },
  "language_info": {
   "codemirror_mode": {
    "name": "ipython",
    "version": 3
   },
   "file_extension": ".py",
   "mimetype": "text/x-python",
   "name": "python",
   "nbconvert_exporter": "python",
   "pygments_lexer": "ipython3",
   "version": "3.10.0"
  }
 },
 "nbformat": 4,
 "nbformat_minor": 2
}
