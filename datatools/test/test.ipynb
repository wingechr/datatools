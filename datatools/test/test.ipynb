{
 "cells": [
  {
   "cell_type": "code",
   "execution_count": 1,
   "metadata": {},
   "outputs": [],
   "source": [
    "import frictionless as fl"
   ]
  },
  {
   "cell_type": "code",
   "execution_count": 2,
   "metadata": {},
   "outputs": [],
   "source": [
    "pkg = fl.package.Package(\"data/datapackage1/datapackage.json\")\n",
    "res0 = pkg.resources[0]"
   ]
  },
  {
   "cell_type": "code",
   "execution_count": 3,
   "metadata": {},
   "outputs": [
    {
     "data": {
      "text/plain": [
       "{'errors': [],\n",
       " 'stats': {'errors': 0, 'tasks': 1},\n",
       " 'tasks': [{'errors': [],\n",
       "            'partial': False,\n",
       "            'resource': {'data': [{'col1': 123, 'col2': 'xyz'}, {'col1': 456}],\n",
       "                         'dialect': {'keyed': True},\n",
       "                         'format': 'inline',\n",
       "                         'hashing': 'md5',\n",
       "                         'name': 'resource0',\n",
       "                         'profile': 'tabular-data-resource',\n",
       "                         'schema': {'fields': [{'maximum': 100,\n",
       "                                                'minimum': 0,\n",
       "                                                'name': 'col1',\n",
       "                                                'required': True,\n",
       "                                                'type': 'integer'},\n",
       "                                               {'maxLength': 3,\n",
       "                                                'minLength': 3,\n",
       "                                                'name': 'col2',\n",
       "                                                'pattern': '[a-z]{3}',\n",
       "                                                'required': False,\n",
       "                                                'type': 'string'}],\n",
       "                                    'primaryKey': ['col1']},\n",
       "                         'scheme': '',\n",
       "                         'stats': {'bytes': 0,\n",
       "                                   'fields': 2,\n",
       "                                   'hash': '',\n",
       "                                   'rows': 2}},\n",
       "            'scope': ['hash-count-error',\n",
       "                      'byte-count-error',\n",
       "                      'field-count-error',\n",
       "                      'row-count-error',\n",
       "                      'blank-header',\n",
       "                      'extra-label',\n",
       "                      'missing-label',\n",
       "                      'blank-label',\n",
       "                      'duplicate-label',\n",
       "                      'incorrect-label',\n",
       "                      'blank-row',\n",
       "                      'primary-key-error',\n",
       "                      'foreign-key-error',\n",
       "                      'extra-cell',\n",
       "                      'missing-cell',\n",
       "                      'type-error',\n",
       "                      'constraint-error',\n",
       "                      'unique-error'],\n",
       "            'stats': {'errors': 0},\n",
       "            'time': 0.003,\n",
       "            'valid': True}],\n",
       " 'time': 0.003,\n",
       " 'valid': True,\n",
       " 'version': '4.40.6'}"
      ]
     },
     "execution_count": 3,
     "metadata": {},
     "output_type": "execute_result"
    }
   ],
   "source": [
    "res0.validate()"
   ]
  },
  {
   "cell_type": "code",
   "execution_count": null,
   "metadata": {},
   "outputs": [],
   "source": []
  }
 ],
 "metadata": {
  "kernelspec": {
   "display_name": "Python 3.10.0 64-bit",
   "language": "python",
   "name": "python3"
  },
  "language_info": {
   "codemirror_mode": {
    "name": "ipython",
    "version": 3
   },
   "file_extension": ".py",
   "mimetype": "text/x-python",
   "name": "python",
   "nbconvert_exporter": "python",
   "pygments_lexer": "ipython3",
   "version": "3.10.0"
  },
  "orig_nbformat": 4,
  "vscode": {
   "interpreter": {
    "hash": "4cc28339ebe3ffe1b3e1ed6eb24efeceff46af584d3dccc57bf54e85dc6e2e19"
   }
  }
 },
 "nbformat": 4,
 "nbformat_minor": 2
}
