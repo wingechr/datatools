{
 "cells": [
  {
   "cell_type": "code",
   "execution_count": 2,
   "metadata": {
    "metadata": {}
   },
   "outputs": [
    {
     "ename": "NotImplementedError",
     "evalue": "{'data_source': <function make_data at 0x000002320EE31D80>} <class 'datatools.generators.AbstractDataGenerator'>",
     "output_type": "error",
     "traceback": [
      "\u001b[1;31m---------------------------------------------------------------------------\u001b[0m",
      "\u001b[1;31mNotImplementedError\u001b[0m                       Traceback (most recent call last)",
      "Cell \u001b[1;32mIn[2], line 10\u001b[0m\n\u001b[0;32m      6\u001b[0m \u001b[38;5;28;01mdef\u001b[39;00m \u001b[38;5;21mmake_data\u001b[39m():\n\u001b[0;32m      7\u001b[0m     \u001b[38;5;28;01mreturn\u001b[39;00m {\u001b[38;5;124m\"\u001b[39m\u001b[38;5;124ma\u001b[39m\u001b[38;5;124m\"\u001b[39m: \u001b[38;5;241m1\u001b[39m}\n\u001b[1;32m---> 10\u001b[0m res \u001b[38;5;241m=\u001b[39m \u001b[43mst\u001b[49m\u001b[38;5;241;43m.\u001b[39;49m\u001b[43mresource\u001b[49m\u001b[43m(\u001b[49m\u001b[43mmake_data\u001b[49m\u001b[43m)\u001b[49m\n\u001b[0;32m     12\u001b[0m data \u001b[38;5;241m=\u001b[39m res\u001b[38;5;241m.\u001b[39mload()\n\u001b[0;32m     13\u001b[0m \u001b[38;5;28mprint\u001b[39m(data)\n",
      "File \u001b[1;32me:\\git\\datatools\\.venv\\lib\\site-packages\\datatools\\storage.py:32\u001b[0m, in \u001b[0;36mAbstractStorage.resource\u001b[1;34m(self, data_source, name)\u001b[0m\n\u001b[0;32m     31\u001b[0m \u001b[38;5;28;01mdef\u001b[39;00m \u001b[38;5;21mresource\u001b[39m(\u001b[38;5;28mself\u001b[39m, data_source, name: \u001b[38;5;28mstr\u001b[39m \u001b[38;5;241m=\u001b[39m \u001b[38;5;28;01mNone\u001b[39;00m) \u001b[38;5;241m-\u001b[39m\u001b[38;5;241m>\u001b[39m \u001b[38;5;124m\"\u001b[39m\u001b[38;5;124mResource\u001b[39m\u001b[38;5;124m\"\u001b[39m:\n\u001b[1;32m---> 32\u001b[0m     \u001b[38;5;28;01mreturn\u001b[39;00m \u001b[43mResource\u001b[49m\u001b[43m(\u001b[49m\u001b[43mstorage\u001b[49m\u001b[38;5;241;43m=\u001b[39;49m\u001b[38;5;28;43mself\u001b[39;49m\u001b[43m,\u001b[49m\u001b[43m \u001b[49m\u001b[43mdata_source\u001b[49m\u001b[38;5;241;43m=\u001b[39;49m\u001b[43mdata_source\u001b[49m\u001b[43m,\u001b[49m\u001b[43m \u001b[49m\u001b[43mname\u001b[49m\u001b[38;5;241;43m=\u001b[39;49m\u001b[43mname\u001b[49m\u001b[43m)\u001b[49m\n",
      "File \u001b[1;32me:\\git\\datatools\\.venv\\lib\\site-packages\\datatools\\storage.py:88\u001b[0m, in \u001b[0;36mResource.__init__\u001b[1;34m(self, storage, data_source, name)\u001b[0m\n\u001b[0;32m     85\u001b[0m \u001b[38;5;28;01mdef\u001b[39;00m \u001b[38;5;21m__init__\u001b[39m(\n\u001b[0;32m     86\u001b[0m     \u001b[38;5;28mself\u001b[39m, storage: \u001b[38;5;124m\"\u001b[39m\u001b[38;5;124mAbstractStorage\u001b[39m\u001b[38;5;124m\"\u001b[39m, data_source: Any, name: \u001b[38;5;28mstr\u001b[39m \u001b[38;5;241m=\u001b[39m \u001b[38;5;28;01mNone\u001b[39;00m\n\u001b[0;32m     87\u001b[0m ) \u001b[38;5;241m-\u001b[39m\u001b[38;5;241m>\u001b[39m \u001b[38;5;28;01mNone\u001b[39;00m:\n\u001b[1;32m---> 88\u001b[0m     \u001b[38;5;28mself\u001b[39m\u001b[38;5;241m.\u001b[39m__data_generator \u001b[38;5;241m=\u001b[39m \u001b[43mAbstractDataGenerator\u001b[49m\u001b[38;5;241;43m.\u001b[39;49m\u001b[43mget_instance\u001b[49m\u001b[43m(\u001b[49m\n\u001b[0;32m     89\u001b[0m \u001b[43m        \u001b[49m\u001b[43mdata_source\u001b[49m\u001b[38;5;241;43m=\u001b[39;49m\u001b[43mdata_source\u001b[49m\n\u001b[0;32m     90\u001b[0m \u001b[43m    \u001b[49m\u001b[43m)\u001b[49m\n\u001b[0;32m     92\u001b[0m     name \u001b[38;5;241m=\u001b[39m name \u001b[38;5;129;01mor\u001b[39;00m \u001b[38;5;28mself\u001b[39m\u001b[38;5;241m.\u001b[39m__data_generator\u001b[38;5;241m.\u001b[39mcreate_name()\n\u001b[0;32m     93\u001b[0m     name \u001b[38;5;241m=\u001b[39m storage\u001b[38;5;241m.\u001b[39m_validate_name(name)\n",
      "File \u001b[1;32me:\\git\\datatools\\.venv\\lib\\site-packages\\datatools\\generators.py:38\u001b[0m, in \u001b[0;36mAbstractDataGenerator.get_instance\u001b[1;34m(cls, data_source)\u001b[0m\n\u001b[0;32m     36\u001b[0m \u001b[38;5;129m@classmethod\u001b[39m\n\u001b[0;32m     37\u001b[0m \u001b[38;5;28;01mdef\u001b[39;00m \u001b[38;5;21mget_instance\u001b[39m(\u001b[38;5;28mcls\u001b[39m, data_source: Any) \u001b[38;5;241m-\u001b[39m\u001b[38;5;241m>\u001b[39m \u001b[38;5;124m\"\u001b[39m\u001b[38;5;124mAbstractDataGenerator\u001b[39m\u001b[38;5;124m\"\u001b[39m:\n\u001b[1;32m---> 38\u001b[0m     subclass \u001b[38;5;241m=\u001b[39m \u001b[38;5;28;43mcls\u001b[39;49m\u001b[38;5;241;43m.\u001b[39;49m\u001b[43m_get_class\u001b[49m\u001b[43m(\u001b[49m\u001b[43mdata_source\u001b[49m\u001b[38;5;241;43m=\u001b[39;49m\u001b[43mdata_source\u001b[49m\u001b[43m)\u001b[49m\n\u001b[0;32m     39\u001b[0m     \u001b[38;5;28;01mreturn\u001b[39;00m subclass(data_source\u001b[38;5;241m=\u001b[39mdata_source)\n",
      "File \u001b[1;32me:\\git\\datatools\\.venv\\lib\\site-packages\\datatools\\classes.py:26\u001b[0m, in \u001b[0;36mRegistryAbstractBase._get_class\u001b[1;34m(cls, **kwargs)\u001b[0m\n\u001b[0;32m     24\u001b[0m     \u001b[38;5;28;01mif\u001b[39;00m subclass\u001b[38;5;241m.\u001b[39m_is_class_for(\u001b[38;5;241m*\u001b[39m\u001b[38;5;241m*\u001b[39mkwargs):\n\u001b[0;32m     25\u001b[0m         \u001b[38;5;28;01mreturn\u001b[39;00m subclass\n\u001b[1;32m---> 26\u001b[0m \u001b[38;5;28;01mraise\u001b[39;00m \u001b[38;5;167;01mNotImplementedError\u001b[39;00m(\u001b[38;5;124mf\u001b[39m\u001b[38;5;124m\"\u001b[39m\u001b[38;5;132;01m{\u001b[39;00mkwargs\u001b[38;5;132;01m}\u001b[39;00m\u001b[38;5;124m \u001b[39m\u001b[38;5;132;01m{\u001b[39;00m\u001b[38;5;28mcls\u001b[39m\u001b[38;5;132;01m}\u001b[39;00m\u001b[38;5;124m\"\u001b[39m)\n",
      "\u001b[1;31mNotImplementedError\u001b[0m: {'data_source': <function make_data at 0x000002320EE31D80>} <class 'datatools.generators.AbstractDataGenerator'>"
     ]
    }
   ],
   "source": [
    "from datatools import Storage\n",
    "\n",
    "st = Storage()\n",
    "\n",
    "\n",
    "def make_data():\n",
    "    return {\"a\": 1}\n",
    "\n",
    "\n",
    "res = st.resource(make_data)\n",
    "\n",
    "data = res.load()\n",
    "print(data)"
   ]
  }
 ],
 "metadata": {
  "kernelspec": {
   "display_name": ".venv",
   "language": "python",
   "name": "python3"
  },
  "language_info": {
   "codemirror_mode": {
    "name": "ipython",
    "version": 3
   },
   "file_extension": ".py",
   "mimetype": "text/x-python",
   "name": "python",
   "nbconvert_exporter": "python",
   "pygments_lexer": "ipython3",
   "version": "3.10.0"
  }
 },
 "nbformat": 4,
 "nbformat_minor": 2
}
